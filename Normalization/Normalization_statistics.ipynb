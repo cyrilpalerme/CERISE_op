{
 "cells": [
  {
   "cell_type": "code",
   "execution_count": 26,
   "id": "28dcab3b",
   "metadata": {},
   "outputs": [],
   "source": [
    "import os\n",
    "import h5py\n",
    "import netCDF4\n",
    "import datetime\n",
    "import numpy as np\n",
    "import time"
   ]
  },
  {
   "cell_type": "markdown",
   "id": "48d88ba8",
   "metadata": {},
   "source": [
    "# Constants"
   ]
  },
  {
   "cell_type": "code",
   "execution_count": 27,
   "id": "db4b41f6",
   "metadata": {},
   "outputs": [],
   "source": [
    "date_min = \"20200901\"\n",
    "date_max = \"20220531\"\n",
    "#\n",
    "paths = {}\n",
    "paths[\"data\"] = \"/lustre/storeB/project/nwp/H2O/wp3/Deep_learning_predictions/Training_data/\"\n",
    "paths[\"output\"] = \"/lustre/storeB/project/nwp/H2O/wp3/Deep_learning_predictions/Normalization/\"\n",
    "#\n",
    "list_variables = {}\n",
    "list_variables[\"geolocation\"] = [\"time\", \"x\", \"y\", \"lat\", \"lon\"]\n",
    "#\n",
    "hours_AMSR2 = \"H03\""
   ]
  },
  {
   "cell_type": "markdown",
   "id": "8f38ac92",
   "metadata": {},
   "source": [
    "# extract_dataset function\n",
    "\n",
    "    date_min: earliest date to consider\n",
    "    date_max: latest date to consider\n",
    "    paths: paths from the \"Constants\" section"
   ]
  },
  {
   "cell_type": "code",
   "execution_count": 28,
   "id": "446a2c54",
   "metadata": {},
   "outputs": [],
   "source": [
    "def extract_dataset(date_min, date_max, hours_AMSR2 = hours_AMSR2, paths = paths):\n",
    "    current_date = datetime.datetime.strptime(date_min, \"%Y%m%d\")\n",
    "    end_date = datetime.datetime.strptime(date_max, \"%Y%m%d\")\n",
    "    dataset = []\n",
    "    while current_date <= end_date:\n",
    "        cdate = current_date.strftime(\"%Y%m%d\")\n",
    "        filename = paths[\"data\"] + cdate[0:4] + \"/\" + cdate[4:6] + \"/\" + \"Dataset_\" + cdate + hours_AMSR2 + \".nc\"\n",
    "        if os.path.isfile(filename):\n",
    "            dataset.append(filename)\n",
    "        current_date = current_date + datetime.timedelta(days = 1)\n",
    "    return(dataset)"
   ]
  },
  {
   "cell_type": "markdown",
   "id": "0169a061",
   "metadata": {},
   "source": [
    "# normalization_and_standardization_stats\n",
    "   \n",
    "    dataset: dataset created using the function \"extract dataset\"\n",
    "    list_variables: list_variables from the Constants section"
   ]
  },
  {
   "cell_type": "code",
   "execution_count": 29,
   "id": "aed7f172-487e-45e8-a0a4-c3c54b02b15b",
   "metadata": {},
   "outputs": [],
   "source": [
    "class normalization_and_standardization_stats():\n",
    "    def __init__(self, dataset, list_variables):\n",
    "        self.dataset = dataset\n",
    "        self.list_variables = list_variables\n",
    "    #\n",
    "    def extract_variables(self):\n",
    "        self.list_variables[\"data\"] = []\n",
    "        nc = netCDF4.Dataset(self.dataset[0], \"r\")\n",
    "        for var in nc.variables:\n",
    "            if (var in self.list_variables[\"geolocation\"]) == False:\n",
    "                self.list_variables[\"data\"].append(var)\n",
    "        nc.close()\n",
    "        return(list_variables[\"data\"])\n",
    "    #\n",
    "    def extract_stats(self, variables_to_normalize):\n",
    "        Stats = {}\n",
    "        for var in variables_to_normalize:\n",
    "            print(var)\n",
    "            for i, fi in enumerate(self.dataset):\n",
    "                nc = netCDF4.Dataset(fi, \"r\")\n",
    "                field = nc.variables[var][:,:]\n",
    "                field[field.mask == True] = np.nan\n",
    "                field_flat = np.ndarray.flatten(field)\n",
    "                if i == 0:\n",
    "                    field_conc = np.copy(field_flat)\n",
    "                else:\n",
    "                    field_conc = np.hstack((field_conc, field_flat))\n",
    "                nc.close()\n",
    "            #\n",
    "            Stats[var + \"_min\"] = np.nanmin(field_conc)\n",
    "            Stats[var + \"_max\"] = np.nanmax(field_conc)\n",
    "            Stats[var + \"_std\"] = np.nanstd(field_conc)\n",
    "            Stats[var + \"_mean\"] = np.nanmean(field_conc)\n",
    "        #\n",
    "        return(Stats)\n",
    "    #\n",
    "    def __call__(self):\n",
    "        variables_to_normalize = self.extract_variables()\n",
    "        Stats = self.extract_stats(variables_to_normalize)\n",
    "        return(Stats)"
   ]
  },
  {
   "cell_type": "markdown",
   "id": "533522e7",
   "metadata": {},
   "source": [
    "write_hdf5 function\n",
    "\n",
    "    Stats: output of the function \"extract_stats\"\n",
    "    date_min: date_min from the \"Constants\" section\n",
    "    date_max: date_max from the \"Constants\" section\n",
    "    frequency: frequency from the \"Constants\" section\n",
    "    paths: paths from the \"Constants\" section"
   ]
  },
  {
   "cell_type": "code",
   "execution_count": 30,
   "id": "7dcfc64b",
   "metadata": {},
   "outputs": [],
   "source": [
    "def write_hdf5(Stats, date_min = date_min, date_max = date_max, paths = paths):\n",
    "    filename = paths[\"output\"] + \"Stats_normalization_\" + date_min + \"_\" + date_max + \".h5\"\n",
    "    hf = h5py.File(filename, 'w')\n",
    "    for var in Stats: \n",
    "        hf.create_dataset(var, data = Stats[var])\n",
    "    hf.close()"
   ]
  },
  {
   "cell_type": "markdown",
   "id": "993b9635",
   "metadata": {},
   "source": [
    "Data processing"
   ]
  },
  {
   "cell_type": "code",
   "execution_count": 31,
   "id": "21c03f09",
   "metadata": {},
   "outputs": [
    {
     "name": "stdout",
     "output_type": "stream",
     "text": [
      "len(dataset) 212\n"
     ]
    },
    {
     "ename": "KeyboardInterrupt",
     "evalue": "",
     "output_type": "error",
     "traceback": [
      "\u001b[0;31m---------------------------------------------------------------------------\u001b[0m",
      "\u001b[0;31mKeyboardInterrupt\u001b[0m                         Traceback (most recent call last)",
      "Input \u001b[0;32mIn [31]\u001b[0m, in \u001b[0;36m<cell line: 4>\u001b[0;34m()\u001b[0m\n\u001b[1;32m      2\u001b[0m dataset \u001b[38;5;241m=\u001b[39m extract_dataset(date_min, date_max, paths \u001b[38;5;241m=\u001b[39m paths)\n\u001b[1;32m      3\u001b[0m \u001b[38;5;28mprint\u001b[39m(\u001b[38;5;124m\"\u001b[39m\u001b[38;5;124mlen(dataset)\u001b[39m\u001b[38;5;124m\"\u001b[39m, \u001b[38;5;28mlen\u001b[39m(dataset))\n\u001b[0;32m----> 4\u001b[0m Stats \u001b[38;5;241m=\u001b[39m \u001b[43mnormalization_and_standardization_stats\u001b[49m\u001b[43m(\u001b[49m\u001b[43mdataset\u001b[49m\u001b[43m,\u001b[49m\u001b[43m \u001b[49m\u001b[43mlist_variables\u001b[49m\u001b[43m)\u001b[49m\u001b[43m(\u001b[49m\u001b[43m)\u001b[49m\n\u001b[1;32m      5\u001b[0m write_hdf5(Stats, date_min \u001b[38;5;241m=\u001b[39m date_min, date_max \u001b[38;5;241m=\u001b[39m date_max, paths \u001b[38;5;241m=\u001b[39m paths)\n\u001b[1;32m      6\u001b[0m tf \u001b[38;5;241m=\u001b[39m time\u001b[38;5;241m.\u001b[39mtime()\n",
      "Input \u001b[0;32mIn [29]\u001b[0m, in \u001b[0;36mnormalization_and_standardization_stats.__call__\u001b[0;34m(self)\u001b[0m\n\u001b[1;32m     34\u001b[0m \u001b[38;5;28;01mdef\u001b[39;00m \u001b[38;5;21m__call__\u001b[39m(\u001b[38;5;28mself\u001b[39m):\n\u001b[1;32m     35\u001b[0m     variables_to_normalize \u001b[38;5;241m=\u001b[39m \u001b[38;5;28mself\u001b[39m\u001b[38;5;241m.\u001b[39mextract_variables()\n\u001b[0;32m---> 36\u001b[0m     Stats \u001b[38;5;241m=\u001b[39m \u001b[38;5;28;43mself\u001b[39;49m\u001b[38;5;241;43m.\u001b[39;49m\u001b[43mextract_stats\u001b[49m\u001b[43m(\u001b[49m\u001b[43mvariables_to_normalize\u001b[49m\u001b[43m)\u001b[49m\n\u001b[1;32m     37\u001b[0m     \u001b[38;5;28;01mreturn\u001b[39;00m(Stats)\n",
      "Input \u001b[0;32mIn [29]\u001b[0m, in \u001b[0;36mnormalization_and_standardization_stats.extract_stats\u001b[0;34m(self, variables_to_normalize)\u001b[0m\n\u001b[1;32m     17\u001b[0m \u001b[38;5;28;01mfor\u001b[39;00m var \u001b[38;5;129;01min\u001b[39;00m variables_to_normalize:\n\u001b[1;32m     18\u001b[0m     \u001b[38;5;28;01mfor\u001b[39;00m i, fi \u001b[38;5;129;01min\u001b[39;00m \u001b[38;5;28menumerate\u001b[39m(\u001b[38;5;28mself\u001b[39m\u001b[38;5;241m.\u001b[39mdataset):\n\u001b[0;32m---> 19\u001b[0m         nc \u001b[38;5;241m=\u001b[39m \u001b[43mnetCDF4\u001b[49m\u001b[38;5;241;43m.\u001b[39;49m\u001b[43mDataset\u001b[49m\u001b[43m(\u001b[49m\u001b[43mfi\u001b[49m\u001b[43m,\u001b[49m\u001b[43m \u001b[49m\u001b[38;5;124;43m\"\u001b[39;49m\u001b[38;5;124;43mr\u001b[39;49m\u001b[38;5;124;43m\"\u001b[39;49m\u001b[43m)\u001b[49m\n\u001b[1;32m     20\u001b[0m         field_flat \u001b[38;5;241m=\u001b[39m np\u001b[38;5;241m.\u001b[39mndarray\u001b[38;5;241m.\u001b[39mflatten(nc\u001b[38;5;241m.\u001b[39mvariables[var][:,:])\n\u001b[1;32m     21\u001b[0m         \u001b[38;5;28;01mif\u001b[39;00m i \u001b[38;5;241m==\u001b[39m \u001b[38;5;241m0\u001b[39m:\n",
      "File \u001b[0;32msrc/netCDF4/_netCDF4.pyx:2472\u001b[0m, in \u001b[0;36mnetCDF4._netCDF4.Dataset.__init__\u001b[0;34m()\u001b[0m\n",
      "File \u001b[0;32msrc/netCDF4/_netCDF4.pyx:1995\u001b[0m, in \u001b[0;36mgenexpr\u001b[0;34m()\u001b[0m\n",
      "File \u001b[0;32msrc/netCDF4/_netCDF4.pyx:1995\u001b[0m, in \u001b[0;36mgenexpr\u001b[0;34m()\u001b[0m\n",
      "File \u001b[0;32m/lustre/storeB/users/cyrilp/mycondaTF/lib/python3.10/site-packages/netCDF4/utils.py:32\u001b[0m, in \u001b[0;36m_find_dim\u001b[0;34m(grp, dimname)\u001b[0m\n\u001b[1;32m     28\u001b[0m \u001b[38;5;28;01mdef\u001b[39;00m \u001b[38;5;21m_sortbylist\u001b[39m(A,B):\n\u001b[1;32m     29\u001b[0m     \u001b[38;5;66;03m# sort one list (A) using the values from another list (B)\u001b[39;00m\n\u001b[1;32m     30\u001b[0m     \u001b[38;5;28;01mreturn\u001b[39;00m [A[i] \u001b[38;5;28;01mfor\u001b[39;00m i \u001b[38;5;129;01min\u001b[39;00m \u001b[38;5;28msorted\u001b[39m(\u001b[38;5;28mrange\u001b[39m(\u001b[38;5;28mlen\u001b[39m(A)), key\u001b[38;5;241m=\u001b[39mB\u001b[38;5;241m.\u001b[39m\u001b[38;5;21m__getitem__\u001b[39m)]\n\u001b[0;32m---> 32\u001b[0m \u001b[38;5;28;01mdef\u001b[39;00m \u001b[38;5;21m_find_dim\u001b[39m(grp, dimname):\n\u001b[1;32m     33\u001b[0m     \u001b[38;5;66;03m# find Dimension instance given group and name.\u001b[39;00m\n\u001b[1;32m     34\u001b[0m     \u001b[38;5;66;03m# look in current group, and parents.\u001b[39;00m\n\u001b[1;32m     35\u001b[0m     group \u001b[38;5;241m=\u001b[39m grp\n\u001b[1;32m     36\u001b[0m     dim \u001b[38;5;241m=\u001b[39m \u001b[38;5;28;01mNone\u001b[39;00m\n",
      "\u001b[0;31mKeyboardInterrupt\u001b[0m: "
     ]
    }
   ],
   "source": [
    "t0 = time.time()\n",
    "dataset = extract_dataset(date_min, date_max, paths = paths)\n",
    "print(\"len(dataset)\", len(dataset))\n",
    "Stats = normalization_and_standardization_stats(dataset, list_variables)()\n",
    "write_hdf5(Stats, date_min = date_min, date_max = date_max, paths = paths)\n",
    "tf = time.time()\n",
    "print(\"Computing time\", tf-t0)"
   ]
  },
  {
   "cell_type": "code",
   "execution_count": null,
   "id": "6226252a-ddce-4bac-b0fc-988cacb28add",
   "metadata": {},
   "outputs": [],
   "source": []
  }
 ],
 "metadata": {
  "kernelspec": {
   "display_name": "mycondaTF",
   "language": "python",
   "name": "mycondatf"
  },
  "language_info": {
   "codemirror_mode": {
    "name": "ipython",
    "version": 3
   },
   "file_extension": ".py",
   "mimetype": "text/x-python",
   "name": "python",
   "nbconvert_exporter": "python",
   "pygments_lexer": "ipython3",
   "version": "3.10.2"
  }
 },
 "nbformat": 4,
 "nbformat_minor": 5
}
