{
 "cells": [
  {
   "cell_type": "code",
   "execution_count": 11,
   "id": "c608e159-9683-40b4-935e-5f7653160487",
   "metadata": {},
   "outputs": [],
   "source": [
    "import time\n",
    "import os\n",
    "import netCDF4\n",
    "import datetime\n",
    "import numpy as np"
   ]
  },
  {
   "cell_type": "markdown",
   "id": "a1bc6871-0652-4235-b8c2-d9206d042369",
   "metadata": {},
   "source": [
    "# Constants"
   ]
  },
  {
   "cell_type": "code",
   "execution_count": 12,
   "id": "06f59a2a-3661-463e-8aef-c618f5b81be0",
   "metadata": {},
   "outputs": [],
   "source": [
    "SGE_TASK_ID = 3\n",
    "#\n",
    "paths = {}\n",
    "paths[\"training\"] = \"/lustre/storeB/project/nwp/H2O/wp3/Deep_learning_predictions/Training_data/\"\n",
    "paths[\"output\"] = \"/lustre/storeB/project/nwp/H2O/wp3/Deep_learning_predictions/Patches/Training_data/\"\n",
    "#\n",
    "date_min = \"20200901\" \n",
    "date_max = \"20230601\"\n",
    "#\n",
    "params_patch = {\"patch_size\": 5,\n",
    "                 \"min_fraction_land\": 0.5,\n",
    "                 \"min_coverage_AMSR2\": 1,\n",
    "                }"
   ]
  },
  {
   "cell_type": "markdown",
   "id": "e0fd08f7-b844-418c-b55f-1d804ab59ab8",
   "metadata": {},
   "source": [
    "# List dates"
   ]
  },
  {
   "cell_type": "code",
   "execution_count": 13,
   "id": "c520bda2-c00a-4e3b-940a-15af99a9f0eb",
   "metadata": {},
   "outputs": [],
   "source": [
    "def make_list_dates(date_min, date_max, paths):\n",
    "    current_date = datetime.datetime.strptime(date_min, \"%Y%m%d\")\n",
    "    end_date = datetime.datetime.strptime(date_max, \"%Y%m%d\")\n",
    "    list_dates = []\n",
    "    while current_date <= end_date:\n",
    "        date_str = current_date.strftime(\"%Y%m%d\")\n",
    "        filename = paths[\"training\"] + date_str[0:4] + \"/\" + date_str[4:6] + \"/Dataset_\" + date_str +  \"H03.nc\"\n",
    "        if os.path.isfile(filename) == True:\n",
    "            list_dates.append(date_str)\n",
    "        current_date = current_date + datetime.timedelta(days = 1)\n",
    "    return(list_dates)"
   ]
  },
  {
   "cell_type": "markdown",
   "id": "fda63728-f56b-46d4-89bc-606243a431d8",
   "metadata": {},
   "source": [
    "# Make patches"
   ]
  },
  {
   "cell_type": "code",
   "execution_count": 14,
   "id": "870d4a68-1fc3-43fe-bc98-db3b798a76b1",
   "metadata": {},
   "outputs": [],
   "source": [
    "class make_patches():\n",
    "    def __init__(self, date_task, params_patch, paths):\n",
    "        self.date_task = date_task\n",
    "        self.params_patch = params_patch\n",
    "        self.paths = paths\n",
    "        self.surfex_dims = (250, 250)\n",
    "    #\n",
    "    def load_data(self):\n",
    "        Dataset = {}\n",
    "        filename = self.paths[\"training\"] + self.date_task[0:4] + \"/\" + self.date_task[4:6] + \"/Dataset_\" + self.date_task +  \"H03.nc\"\n",
    "        nc = netCDF4.Dataset(filename, \"r\")\n",
    "        for var in nc.variables:\n",
    "            Dataset[var] = nc.variables[var][:,:]\n",
    "        nc.close()\n",
    "        return(Dataset)\n",
    "    #\n",
    "    def extract_patch(self, ymin, xmin, Dataset):\n",
    "        Patch = {}\n",
    "        ymax = ymin + self.params_patch[\"patch_size\"]\n",
    "        xmax = xmin + self.params_patch[\"patch_size\"]\n",
    "        #\n",
    "        coverage_AMSR2 = 1 - np.sum(Dataset[\"tb36_v\"][ymin:ymax, xmin:xmax].mask == True) / (self.params_patch[\"patch_size\"]**2)\n",
    "        if coverage_AMSR2 >= self.params_patch[\"min_coverage_AMSR2\"]:\n",
    "            frac_water = np.sum(Dataset[\"FRAC_SEA\"][ymin:ymax, xmin:xmax] + Dataset[\"FRAC_WATER\"][ymin:ymax, xmin:xmax]) / (self.params_patch[\"patch_size\"]**2)\n",
    "            if frac_water <= self.params_patch[\"min_fraction_land\"]:\n",
    "                for var in Dataset:\n",
    "                    Patch[var] = np.expand_dims(Dataset[var][ymin:ymax, xmin:xmax], axis = 0)\n",
    "        return(Patch)\n",
    "    #\n",
    "    def write_netCDF(self, All_patches, IDs_patch):\n",
    "        path_output = self.paths[\"output\"] + self.date_task[0:4] + \"/\" + self.date_task[4:6] + \"/\" \n",
    "        if os.path.exists(path_output) == False:\n",
    "            os.system(\"mkdir -p \" + path_output)    \n",
    "        output_filename = path_output + \"Dataset_\" + self.date_task + \".nc\"  \n",
    "        if os.path.isfile(output_filename):\n",
    "            os.system(\"rm \" + output_filename)\n",
    "        output_netcdf = netCDF4.Dataset(output_filename, \"w\", format = \"NETCDF4\")\n",
    "        #\n",
    "        ID_patch = output_netcdf.createDimension(\"ID_patch\", len(IDs_patch))\n",
    "        x = output_netcdf.createDimension(\"x\", self.params_patch[\"patch_size\"])\n",
    "        y = output_netcdf.createDimension(\"y\", self.params_patch[\"patch_size\"])\n",
    "        #\n",
    "        Outputs = vars()  \n",
    "        for var in All_patches:\n",
    "            Outputs[var] = output_netcdf.createVariable(var, \"d\", (\"ID_patch\", \"y\", \"x\"))\n",
    "            Outputs[var][:,:,:] = All_patches[var]\n",
    "        #\n",
    "        output_netcdf.close() \n",
    "    #\n",
    "    def __call__(self):\n",
    "        Dataset = self.load_data()\n",
    "        ID_patch = 0\n",
    "        #\n",
    "        for ymin in range(0, self.surfex_dims[0] - self.params_patch[\"patch_size\"], self.params_patch[\"patch_size\"]):\n",
    "            for xmin in range(0, self.surfex_dims[1] - self.params_patch[\"patch_size\"], self.params_patch[\"patch_size\"]):\n",
    "                Patch = self.extract_patch(ymin, xmin, Dataset)\n",
    "                if len(Patch) > 0:\n",
    "                    ID_patch = ID_patch + 1\n",
    "                    #\n",
    "                    if ID_patch == 1:\n",
    "                        All_patches = Patch\n",
    "                    else:\n",
    "                        for var in Patch:\n",
    "                            All_patches[var] = np.concatenate((All_patches[var], Patch[var]), axis = 0)\n",
    "        #\n",
    "        IDs_patch = np.arange(ID_patch) + 1\n",
    "        self.write_netCDF(All_patches, IDs_patch)"
   ]
  },
  {
   "cell_type": "markdown",
   "id": "d72b7d57-6f2e-4405-a1c9-81c5c93d972e",
   "metadata": {},
   "source": [
    "# Data processing"
   ]
  },
  {
   "cell_type": "code",
   "execution_count": 15,
   "id": "b98acd52-cf62-40f3-b997-60e2fbbfb90f",
   "metadata": {},
   "outputs": [
    {
     "name": "stdout",
     "output_type": "stream",
     "text": [
      "number of dates 904\n",
      "Computing time 9.673813581466675\n"
     ]
    }
   ],
   "source": [
    "t0 = time.time()\n",
    "list_dates = make_list_dates(date_min, date_max, paths)\n",
    "print(\"number of dates\", len(list_dates))\n",
    "date_task = list_dates[SGE_TASK_ID -1]\n",
    "make_patches(date_task, params_patch, paths)()\n",
    "tf = time.time()\n",
    "print(\"Computing time\", tf - t0)"
   ]
  }
 ],
 "metadata": {
  "kernelspec": {
   "display_name": "Python 3 (ipykernel)",
   "language": "python",
   "name": "python3"
  },
  "language_info": {
   "codemirror_mode": {
    "name": "ipython",
    "version": 3
   },
   "file_extension": ".py",
   "mimetype": "text/x-python",
   "name": "python",
   "nbconvert_exporter": "python",
   "pygments_lexer": "ipython3",
   "version": "3.9.13"
  }
 },
 "nbformat": 4,
 "nbformat_minor": 5
}
