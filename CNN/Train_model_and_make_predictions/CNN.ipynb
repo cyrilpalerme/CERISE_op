{
 "cells": [
  {
   "cell_type": "code",
   "execution_count": 1,
   "id": "97930c33-d5de-4970-8c78-418086bda293",
   "metadata": {},
   "outputs": [
    {
     "ename": "ModuleNotFoundError",
     "evalue": "No module named 'tensorflow'",
     "output_type": "error",
     "traceback": [
      "\u001b[0;31m---------------------------------------------------------------------------\u001b[0m",
      "\u001b[0;31mModuleNotFoundError\u001b[0m                       Traceback (most recent call last)",
      "Cell \u001b[0;32mIn [1], line 1\u001b[0m\n\u001b[0;32m----> 1\u001b[0m \u001b[38;5;28;01mimport\u001b[39;00m \u001b[38;5;21;01mtensorflow\u001b[39;00m \u001b[38;5;28;01mas\u001b[39;00m \u001b[38;5;21;01mtf\u001b[39;00m\n",
      "\u001b[0;31mModuleNotFoundError\u001b[0m: No module named 'tensorflow'"
     ]
    }
   ],
   "source": [
    "import tensorflow as tf"
   ]
  },
  {
   "cell_type": "code",
   "execution_count": null,
   "id": "2369a33c-e9ff-40d3-a84e-1099ae1c5c3f",
   "metadata": {},
   "outputs": [],
   "source": [
    "class CNN():\n",
    "    def __init__(self, list_predictors, list_targets, patch_dim, batch_size, conv_filters, dense_width, activation, kernel_initializer, batch_norm, pooling_type, dropout):\n",
    "        self.list_predictors = list_predictors\n",
    "        self.list_targets = list_targets\n",
    "        self.patch_dim = patch_dim\n",
    "        self.batch_size = batch_size\n",
    "        self.conv_filters = conv_filters\n",
    "        self.dense_width = dense_width\n",
    "        self.activation = activation\n",
    "        self.kernel_initializer = kernel_initializer\n",
    "        self.batch_norm = batch_norm\n",
    "        self.pooling_type = pooling_type\n",
    "        self.dropout = dropout\n",
    "        self.n_predictors = len(list_predictors)\n",
    "        self.n_targets = len(list_targets)\n",
    "    #\n",
    "    def conv_block(self, x, num_filters, padding):\n",
    "        x = tf.keras.layers.Conv2D(num_filters, kernel_size = (3,3), padding = padding, kernel_initializer = self.kernel_initializer)(x)\n",
    "        if self.batch_norm == True:\n",
    "            x = tf.keras.layers.BatchNormalization(axis = 3)(x)\n",
    "        x = tf.keras.layers.Activation(self.activation)(x)\n",
    "        #\n",
    "        return(x)\n",
    "    #\n",
    "    def dense_block(self, x, width, activ, dropout):\n",
    "        x = tf.keras.layers.Dense(width, kernel_initializer = self.kernel_initializer)(x)\n",
    "        #\n",
    "        if self.batch_norm == True:\n",
    "            x = tf.keras.layers.BatchNormalization()(x)\n",
    "        x = tf.keras.layers.Activation(activ)(x)\n",
    "        #\n",
    "        if dropout > 0:\n",
    "            x = tf.keras.layers.Dropout(dropout)(x)\n",
    "        #\n",
    "        return(x)\n",
    "    #\n",
    "    def make_model(self): \n",
    "        inputs = tf.keras.layers.Input(shape = (*self.patch_dim, self.n_predictors))\n",
    "        f1 = self.conv_block(inputs, self.conv_filters[0], padding = \"same\")\n",
    "        f2 = self.conv_block(f1, self.conv_filters[1], padding = \"same\")\n",
    "        f3 = self.conv_block(f2, self.conv_filters[2], padding = \"valid\")\n",
    "        f4 = self.conv_block(f3, self.conv_filters[3], padding = \"same\")\n",
    "        # f5 = tf.keras.layers.Flatten()(f4)\n",
    "        # f6 = self.dense_block(f5, width = self.dense_width[0], activ = self.activation, dropout = self.dropout)\n",
    "        # f7 = self.dense_block(f6, width = self.dense_width[1], activ = self.activation, dropout = self.dropout)\n",
    "        outputs = self.dense_block(f4, width = self.n_targets, activ = \"linear\", dropout = 0)\n",
    "        CNN_model = tf.keras.Model(inputs, outputs, name = \"CNN\")\n",
    "        return(CNN_model)"
   ]
  }
 ],
 "metadata": {
  "kernelspec": {
   "display_name": "Python [conda env:production-08-2023] *",
   "language": "python",
   "name": "conda-env-production-08-2023-py"
  },
  "language_info": {
   "codemirror_mode": {
    "name": "ipython",
    "version": 3
   },
   "file_extension": ".py",
   "mimetype": "text/x-python",
   "name": "python",
   "nbconvert_exporter": "python",
   "pygments_lexer": "ipython3",
   "version": "3.9.13"
  }
 },
 "nbformat": 4,
 "nbformat_minor": 5
}
