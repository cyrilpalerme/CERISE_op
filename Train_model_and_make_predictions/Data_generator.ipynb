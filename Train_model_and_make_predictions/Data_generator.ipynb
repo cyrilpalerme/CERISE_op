{
 "cells": [
  {
   "cell_type": "code",
   "execution_count": 1,
   "metadata": {
    "collapsed": true,
    "jupyter": {
     "outputs_hidden": true
    },
    "tags": []
   },
   "outputs": [
    {
     "ename": "ModuleNotFoundError",
     "evalue": "No module named 'tensorflow'",
     "output_type": "error",
     "traceback": [
      "\u001b[0;31m---------------------------------------------------------------------------\u001b[0m",
      "\u001b[0;31mModuleNotFoundError\u001b[0m                       Traceback (most recent call last)",
      "Cell \u001b[0;32mIn [1], line 2\u001b[0m\n\u001b[1;32m      1\u001b[0m \u001b[38;5;28;01mimport\u001b[39;00m \u001b[38;5;21;01mnetCDF4\u001b[39;00m\n\u001b[0;32m----> 2\u001b[0m \u001b[38;5;28;01mimport\u001b[39;00m \u001b[38;5;21;01mtensorflow\u001b[39;00m \u001b[38;5;28;01mas\u001b[39;00m \u001b[38;5;21;01mtf\u001b[39;00m\n\u001b[1;32m      3\u001b[0m \u001b[38;5;28;01mimport\u001b[39;00m \u001b[38;5;21;01mnumpy\u001b[39;00m \u001b[38;5;28;01mas\u001b[39;00m \u001b[38;5;21;01mnp\u001b[39;00m\n\u001b[1;32m      4\u001b[0m tf\u001b[38;5;241m.\u001b[39mkeras\u001b[38;5;241m.\u001b[39mutils\u001b[38;5;241m.\u001b[39mset_random_seed(\u001b[38;5;241m1234\u001b[39m)\n",
      "\u001b[0;31mModuleNotFoundError\u001b[0m: No module named 'tensorflow'"
     ]
    }
   ],
   "source": [
    "import os\n",
    "import netCDF4\n",
    "import tensorflow as tf\n",
    "import numpy as np\n",
    "tf.keras.utils.set_random_seed(1234)"
   ]
  },
  {
   "cell_type": "code",
   "execution_count": null,
   "metadata": {},
   "outputs": [],
   "source": [
    "class Data_generator(tf.keras.utils.Sequence):\n",
    "    def __init__(self, list_predictors, list_targets, list_IDs, normalization_stats, batch_size, path_data, dim, shuffle):\n",
    "        self.list_predictors = list_predictors\n",
    "        self.list_targets = list_targets\n",
    "        self.list_IDs = list_IDs\n",
    "        self.normalization_stats = normalization_stats\n",
    "        self.batch_size = batch_size\n",
    "        self.path_data = path_data\n",
    "        self.dim = dim\n",
    "        self.shuffle = shuffle\n",
    "        self.n_predictors = len(list_predictors)\n",
    "        self.n_targets = len(list_targets)\n",
    "        self.on_epoch_end()\n",
    "    #\n",
    "    def __len__(self): # Number of batches per epoch\n",
    "        return int(np.ceil(len(self.list_IDs)) / self.batch_size)  \n",
    "    #\n",
    "    def __getitem__(self, index): # Generate one batch of data\n",
    "        # Generate indexes of the batch\n",
    "        indexes = self.indexes[index * self.batch_size : (index + 1) * self.batch_size]\n",
    "        # Find list of IDs\n",
    "        list_IDs_batch = [self.list_IDs[k] for k in indexes]\n",
    "        # Generate data\n",
    "        X, y = self.__data_generation(list_IDs_batch)\n",
    "        return(X, y)\n",
    "    #\n",
    "    def on_epoch_end(self): # Updates indexes after each epoch\n",
    "        self.indexes = np.arange(len(self.list_IDs))\n",
    "        if self.shuffle == True:\n",
    "            rng = np.random.default_rng()\n",
    "            rng.shuffle(self.indexes)\n",
    "    #\n",
    "    def normalize(self, var, var_data):\n",
    "        norm_data = (var_data - self.normalization_stats[var + \"_min\"]) / (self.normalization_stats[var + \"_max\"] - self.normalization_stats[var + \"_min\"])\n",
    "        return(norm_data)\n",
    "    #\n",
    "    def __data_generation(self, list_IDs_batch): # Generates data containing batch_size samples\n",
    "        #\n",
    "        # Initialization\n",
    "        X = np.full((self.batch_size, *self.dim, self.n_predictors), np.nan)\n",
    "        y = np.full((self.batch_size, self.n_targets), np.nan)\n",
    "        # Generate data\n",
    "        file_ID = self.path_data + \"Patches.nc\"\n",
    "        nc = netCDF4.Dataset(file_ID, \"r\")\n",
    "        #\n",
    "        for v, var in enumerate(self.list_predictors):\n",
    "            var_data = nc.variables[var][list_IDs_batch,:,:]\n",
    "            if np.shape(var_data.mask) == np.shape(var_data):\n",
    "                var_data[var_data.mask == True] = self.normalization_stats[var + \"_min\"]\n",
    "            var_data[np.isnan(var_data) == True] = self.normalization_stats[var + \"_min\"]\n",
    "            X[:,:,:,v] = self.normalize(var, var_data)\n",
    "        #\n",
    "        for v, var in enumerate(self.list_targets):\n",
    "            var_data = nc.variables[var][list_IDs_batch,:,:]\n",
    "            if np.shape(var_data.mask) == np.shape(var_data):\n",
    "                var_data[var_data.mask == True] = np.nan\n",
    "            var_data = np.nanmean(var_data, axis = (1, 2))\n",
    "            y[:,v] = self.normalize(var, var_data)\n",
    "        #\n",
    "        nc.close()\n",
    "        return(X, y)"
   ]
  }
 ],
 "metadata": {
  "kernelspec": {
   "display_name": "mycondaTF",
   "language": "python",
   "name": "mycondatf"
  },
  "language_info": {
   "codemirror_mode": {
    "name": "ipython",
    "version": 3
   },
   "file_extension": ".py",
   "mimetype": "text/x-python",
   "name": "python",
   "nbconvert_exporter": "python",
   "pygments_lexer": "ipython3",
   "version": "3.10.2"
  }
 },
 "nbformat": 4,
 "nbformat_minor": 5
}
