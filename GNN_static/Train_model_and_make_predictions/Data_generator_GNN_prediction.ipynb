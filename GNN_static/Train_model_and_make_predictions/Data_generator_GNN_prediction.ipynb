{
 "cells": [
  {
   "cell_type": "code",
   "execution_count": null,
   "metadata": {},
   "outputs": [],
   "source": [
    "import time\n",
    "import h5py\n",
    "import pandas\n",
    "import torch\n",
    "import torch_geometric\n",
    "import numpy as np"
   ]
  },
  {
   "cell_type": "code",
   "execution_count": null,
   "metadata": {},
   "outputs": [],
   "source": [
    "class Data_generator_GNN_prediction(torch.utils.data.Dataset):\n",
    "    def __init__(self, filename_data, footprint_radius, list_predictors, normalization_stats):\n",
    "        self.hdf = h5py.File(filename_data, \"r\")\n",
    "        self.footprint_radius = footprint_radius\n",
    "        self.list_predictors = list_predictors\n",
    "        self.normalization_stats = normalization_stats\n",
    "        self.list_IDs = self.generate_list_IDs()\n",
    "\n",
    "    def generate_list_IDs(self):\n",
    "        Number_of_graphs = self.hdf[\"xx\"][()].shape[0]\n",
    "        return np.arange(0, Number_of_graphs)\n",
    "\n",
    "    def __len__(self):\n",
    "        return len(self.list_IDs)\n",
    "\n",
    "    def normalize(self, var, var_data):\n",
    "        if var == \"Distance_matrix\":\n",
    "            norm_data = 1 - var_data / (self.footprint_radius * 2)\n",
    "        elif var == \"Distance_to_footprint_center\":\n",
    "            norm_data = var_data / self.footprint_radius\n",
    "        else:\n",
    "            norm_data = (var_data - self.normalization_stats[var + \"_min\"]) / (self.normalization_stats[var + \"_max\"] - self.normalization_stats[var + \"_min\"])\n",
    "        return norm_data\n",
    "\n",
    "    def __getitem__(self, index):\n",
    "        start_id = self.list_IDs[index]\n",
    "        end_id = start_id + len(self.list_IDs)\n",
    "        n_nodes = 25  # The number of nodes is 25\n",
    "\n",
    "        x_chunk = np.stack([self.hdf[pred][start_id:end_id,:] for pred in self.list_predictors], axis = -1)\n",
    "        adj_chunk = self.hdf[\"Distance_matrix\"][start_id:end_id]\n",
    "\n",
    "        x_chunk = np.nan_to_num(x_chunk, nan=0.0)\n",
    "        for i, pred in enumerate(self.list_predictors):\n",
    "            x_chunk[:,:,i] = self.normalize(pred, x_chunk[:,:,i])\n",
    "\n",
    "        adj_matrix = self.normalize(\"Distance_matrix\", adj_chunk)\n",
    "\n",
    "        batch_data = []\n",
    "        for i in range(len(self.list_IDs)):\n",
    "            sample_id = i\n",
    "\n",
    "            # Normalize adjacency matrix\n",
    "            a = adj_matrix[i]\n",
    "            edge_index, edge_weight = torch_geometric.utils.dense_to_sparse(torch.tensor(a, dtype = torch.float32))\n",
    "\n",
    "            x = x_chunk[i,:,:]\n",
    "            # Create Data object\n",
    "            data = torch_geometric.data.Data(\n",
    "                x = torch.tensor(x, dtype = torch.float32),\n",
    "                edge_index = edge_index,\n",
    "                edge_attr = edge_weight,\n",
    "                num_nodes = n_nodes,\n",
    "                sample_id = torch.tensor(sample_id, dtype = torch.float32),\n",
    "            )\n",
    "            batch_data.append(data)\n",
    "        return torch_geometric.data.Batch.from_data_list(batch_data)"
   ]
  }
 ],
 "metadata": {
  "kernelspec": {
   "display_name": "Python 3 (ipykernel)",
   "language": "python",
   "name": "python3"
  },
  "language_info": {
   "codemirror_mode": {
    "name": "ipython",
    "version": 3
   },
   "file_extension": ".py",
   "mimetype": "text/x-python",
   "name": "python",
   "nbconvert_exporter": "python",
   "pygments_lexer": "ipython3",
   "version": "3.9.13"
  }
 },
 "nbformat": 4,
 "nbformat_minor": 4
}
