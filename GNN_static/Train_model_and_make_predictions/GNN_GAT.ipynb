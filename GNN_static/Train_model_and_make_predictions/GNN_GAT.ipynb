{
 "cells": [
  {
   "cell_type": "code",
   "execution_count": null,
   "metadata": {},
   "outputs": [
    {
     "name": "stderr",
     "output_type": "stream",
     "text": [
      "2024-11-22 09:48:01.935932: W tensorflow/stream_executor/platform/default/dso_loader.cc:64] Could not load dynamic library 'libcudart.so.11.0'; dlerror: libcudart.so.11.0: cannot open shared object file: No such file or directory\n",
      "2024-11-22 09:48:01.935963: I tensorflow/stream_executor/cuda/cudart_stub.cc:29] Ignore above cudart dlerror if you do not have a GPU set up on your machine.\n"
     ]
    }
   ],
   "source": [
    "import torch\n",
    "import torch_geometric"
   ]
  },
  {
   "cell_type": "markdown",
   "metadata": {},
   "source": [
    "# Model "
   ]
  },
  {
   "cell_type": "code",
   "execution_count": null,
   "metadata": {},
   "outputs": [],
   "source": [
    "class GNN_GAT(torch.nn.Module):\n",
    "    def __init__(self, list_predictors, list_targets, activation, weight_initializer, conv_filters, batch_normalization, heads=1):\n",
    "        super(GNN_GAT, self).__init__()\n",
    "        self.list_predictors = list_predictors\n",
    "        self.list_targets = list_targets\n",
    "        self.activation = activation\n",
    "        self.weight_initializer = weight_initializer\n",
    "        self.conv_filters = conv_filters\n",
    "        self.batch_normalization = batch_normalization\n",
    "        self.n_conv_layers = len(self.conv_filters)\n",
    "        self.heads = heads\n",
    "\n",
    "        self.conv_1 = torch_geometric.nn.GATConv(len(self.list_predictors), self.conv_filters[0] // heads, heads = heads)\n",
    "        self.conv_2 = torch_geometric.nn.GATConv(self.conv_filters[0], self.conv_filters[1] // heads, heads = heads)\n",
    "        if self.n_conv_layers == 3:\n",
    "            self.conv_3 = torch_geometric.nn.GATConv(self.conv_filters[1], self.conv_filters[2] // heads, heads = heads)\n",
    "\n",
    "        self.batch_norm_conv_1 = torch.nn.BatchNorm1d(self.conv_filters[0])\n",
    "        self.batch_norm_conv_2 = torch.nn.BatchNorm1d(self.conv_filters[1])\n",
    "        if self.n_conv_layers == 3:\n",
    "            self.batch_norm_conv_3 = torch.nn.BatchNorm1d(self.conv_filters[2])\n",
    "\n",
    "        self.pool = torch_geometric.nn.global_mean_pool\n",
    "\n",
    "        self.dense_1 = torch.nn.Linear(self.conv_filters[-1], self.conv_filters[-1] // 2)\n",
    "        self.dense_2 = torch.nn.Linear(self.conv_filters[-1] // 2, self.conv_filters[-1] // 4)\n",
    "        self.batch_norm_dense_1 = torch.nn.BatchNorm1d(conv_filters[-1] // 2)\n",
    "        self.batch_norm_dense_2 = torch.nn.BatchNorm1d(conv_filters[-1] // 4)\n",
    "\n",
    "        self.fc = torch.nn.Linear(self.conv_filters[-1] // 4, len(self.list_targets))\n",
    "\n",
    "        self._initialize_weights()\n",
    "\n",
    "    def _initialize_weights(self):\n",
    "        if self.weight_initializer is not None:\n",
    "            for m in self.modules():\n",
    "                if isinstance(m, torch.nn.Linear):\n",
    "                    self.weight_initializer(m.weight)\n",
    "                    if m.bias is not None:\n",
    "                        torch.nn.init.zeros_(m.bias)\n",
    "                elif isinstance(m, torch_geometric.nn.GATConv):\n",
    "                    self.weight_initializer(m.lin.weight)\n",
    "                    if m.lin.bias is not None:\n",
    "                        torch.nn.init.zeros_(m.lin.bias)\n",
    "\n",
    "    def convolutional_block(self, x, edge_index, conv, batch_norm):\n",
    "        x = conv(x, edge_index)  # Convolution\n",
    "        if self.batch_normalization:\n",
    "            x = batch_norm(x)  # Batch normalization\n",
    "        x = self.activation(x)  # Apply activation\n",
    "        return x\n",
    "\n",
    "    def dense_block(self, x, dense, batch_norm):\n",
    "        x = dense(x)\n",
    "        if self.batch_normalization:\n",
    "            x = batch_norm(x)\n",
    "        x = self.activation(x)\n",
    "        return x\n",
    "\n",
    "    def forward(self, node_features, edge_index, batch):\n",
    "        # Convolutional blocks\n",
    "        x = self.convolutional_block(node_features, edge_index, self.conv_1, self.batch_norm_conv_1)\n",
    "        x = self.convolutional_block(x, edge_index, self.conv_2, self.batch_norm_conv_2)\n",
    "        if self.n_conv_layers == 3:\n",
    "            x = self.convolutional_block(x, edge_index, self.conv_3, self.batch_norm_conv_3)\n",
    "\n",
    "        # Pool the node embeddings\n",
    "        x = self.pool(x, batch)\n",
    "\n",
    "        # Dense layers\n",
    "        x = self.dense_block(x, self.dense_1, self.batch_norm_dense_1)\n",
    "        x = self.dense_block(x, self.dense_2, self.batch_norm_dense_2)\n",
    "\n",
    "        # Output layer\n",
    "        output = self.fc(x)\n",
    "        return output"
   ]
  }
 ],
 "metadata": {
  "kernelspec": {
   "display_name": "Python 3 (ipykernel)",
   "language": "python",
   "name": "python3"
  },
  "language_info": {
   "codemirror_mode": {
    "name": "ipython",
    "version": 3
   },
   "file_extension": ".py",
   "mimetype": "text/x-python",
   "name": "python",
   "nbconvert_exporter": "python",
   "pygments_lexer": "ipython3",
   "version": "3.9.13"
  }
 },
 "nbformat": 4,
 "nbformat_minor": 4
}
